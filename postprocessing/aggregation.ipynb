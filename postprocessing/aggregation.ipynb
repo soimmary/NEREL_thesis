{
 "cells": [
  {
   "cell_type": "code",
   "execution_count": 281,
   "metadata": {},
   "outputs": [],
   "source": [
    "import pandas as pd\n",
    "import json\n",
    "from math import isnan"
   ]
  },
  {
   "cell_type": "code",
   "execution_count": 815,
   "metadata": {},
   "outputs": [],
   "source": [
    "df = pd.read_csv('TOLOKA_RAW.tsv', sep='\\t')\n",
    "df = df[\n",
    "    [\n",
    "        'INPUT:input', \n",
    "        'OUTPUT:connections', \n",
    "        'OUTPUT:no_relations', \n",
    "        'OUTPUT:incorrect_markup',\n",
    "        'GOLDEN:connections',\n",
    "        'GOLDEN:no_relations',\n",
    "        'GOLDEN:incorrect_markup',\n",
    "        'ASSIGNMENT:worker_id'\n",
    "    ]\n",
    "]"
   ]
  },
  {
   "cell_type": "code",
   "execution_count": 816,
   "metadata": {},
   "outputs": [],
   "source": [
    "df['OUTPUT:connections'] = df['OUTPUT:connections'].apply(lambda x: eval(x) if type(x) != float else x)\n",
    "df['GOLDEN:connections'] = df['GOLDEN:connections'].apply(lambda x: eval(x) if type(x) != float else x)\n",
    "\n",
    "# Golden annotations of control kasks\n",
    "control_df = df[df['GOLDEN:connections'].notna()].drop_duplicates(subset=['INPUT:input'])\n",
    "\n",
    "# Tolokers' annotations\n",
    "res_df = df[df['GOLDEN:connections'].apply(lambda x: type(x) == float)].dropna(subset = ['INPUT:input'])"
   ]
  },
  {
   "cell_type": "markdown",
   "metadata": {},
   "source": [
    "# Filtering annotators by their performance"
   ]
  },
  {
   "cell_type": "code",
   "execution_count": 817,
   "metadata": {},
   "outputs": [],
   "source": [
    "# Preparing a data frame\n",
    "\n",
    "ann_df = df[df['GOLDEN:connections'].notna()] \\\n",
    "         [['OUTPUT:connections', 'GOLDEN:connections', 'ASSIGNMENT:worker_id']]\n",
    "\n",
    "ann_df = (\n",
    "    ann_df\n",
    "    .groupby('ASSIGNMENT:worker_id')\n",
    "    .agg(\n",
    "        {'OUTPUT:connections': lambda x: list(x),\n",
    "         'GOLDEN:connections': lambda x: list(x)}\n",
    "    )\n",
    "    .reset_index()\n",
    ")\n",
    "\n",
    "ann_df['GOLDEN:number'] = ann_df['GOLDEN:connections'].apply(len)"
   ]
  },
  {
   "cell_type": "code",
   "execution_count": 818,
   "metadata": {},
   "outputs": [
    {
     "data": {
      "text/html": [
       "<div>\n",
       "<style scoped>\n",
       "    .dataframe tbody tr th:only-of-type {\n",
       "        vertical-align: middle;\n",
       "    }\n",
       "\n",
       "    .dataframe tbody tr th {\n",
       "        vertical-align: top;\n",
       "    }\n",
       "\n",
       "    .dataframe thead th {\n",
       "        text-align: right;\n",
       "    }\n",
       "</style>\n",
       "<table border=\"1\" class=\"dataframe\">\n",
       "  <thead>\n",
       "    <tr style=\"text-align: right;\">\n",
       "      <th></th>\n",
       "      <th>ASSIGNMENT:worker_id</th>\n",
       "      <th>OUTPUT:connections</th>\n",
       "      <th>GOLDEN:connections</th>\n",
       "      <th>GOLDEN:number</th>\n",
       "    </tr>\n",
       "  </thead>\n",
       "  <tbody>\n",
       "    <tr>\n",
       "      <th>0</th>\n",
       "      <td>067901a253b8039272920ee9871312e4</td>\n",
       "      <td>[[{'T1': {'value': 'per', 'text': 'Юра Гершков...</td>\n",
       "      <td>[[{'T1': {'value': 'per', 'text': 'Юра Гершков...</td>\n",
       "      <td>24</td>\n",
       "    </tr>\n",
       "    <tr>\n",
       "      <th>1</th>\n",
       "      <td>0f891e4bff332c6c531b140c56cf6aa0</td>\n",
       "      <td>[[{'T1': {'value': 'per', 'text': 'Лев Михайло...</td>\n",
       "      <td>[[{'T1': {'value': 'per', 'text': 'Лев Михайло...</td>\n",
       "      <td>18</td>\n",
       "    </tr>\n",
       "    <tr>\n",
       "      <th>2</th>\n",
       "      <td>0fa81c631c7ddf6866d0e74b445def47</td>\n",
       "      <td>[[{'T1': {'value': 'per', 'text': 'Юлия Петров...</td>\n",
       "      <td>[[{'T1': {'value': 'per', 'text': 'Юлия Петров...</td>\n",
       "      <td>10</td>\n",
       "    </tr>\n",
       "  </tbody>\n",
       "</table>\n",
       "</div>"
      ],
      "text/plain": [
       "               ASSIGNMENT:worker_id  \\\n",
       "0  067901a253b8039272920ee9871312e4   \n",
       "1  0f891e4bff332c6c531b140c56cf6aa0   \n",
       "2  0fa81c631c7ddf6866d0e74b445def47   \n",
       "\n",
       "                                  OUTPUT:connections  \\\n",
       "0  [[{'T1': {'value': 'per', 'text': 'Юра Гершков...   \n",
       "1  [[{'T1': {'value': 'per', 'text': 'Лев Михайло...   \n",
       "2  [[{'T1': {'value': 'per', 'text': 'Юлия Петров...   \n",
       "\n",
       "                                  GOLDEN:connections  GOLDEN:number  \n",
       "0  [[{'T1': {'value': 'per', 'text': 'Юра Гершков...             24  \n",
       "1  [[{'T1': {'value': 'per', 'text': 'Лев Михайло...             18  \n",
       "2  [[{'T1': {'value': 'per', 'text': 'Юлия Петров...             10  "
      ]
     },
     "execution_count": 818,
     "metadata": {},
     "output_type": "execute_result"
    }
   ],
   "source": [
    "ann_df.head(3)"
   ]
  },
  {
   "cell_type": "code",
   "execution_count": 819,
   "metadata": {},
   "outputs": [],
   "source": [
    "def dict_to_tuple(input_dict: list) -> list:\n",
    "    '''\n",
    "    The fuction converts a dict output \n",
    "    into a list of tuples leaving only \n",
    "    the following fields: t1.text, t2.text\n",
    "    and connection_type.    \n",
    "    '''\n",
    "    \n",
    "    return sorted([(i['T1']['text'], i['T2']['text'], i['connection_type']) for i in input_dict])\n",
    "\n",
    "\n",
    "def find_matching(outputs: list, goldens: list) -> float:\n",
    "    '''\n",
    "    The fuction matches two lists of tuples\n",
    "    (output of an annotator and a golden\n",
    "    markup), compares them and then calculates\n",
    "    the accuracy of an annotator's markup\n",
    "    ''' \n",
    "    \n",
    "    num_matches = 0\n",
    "    num_all = 0\n",
    "    for output, golden in zip(outputs, goldens):\n",
    "        try:\n",
    "            output = dict_to_tuple(output)\n",
    "            golden  = dict_to_tuple(golden)\n",
    "        except Exception as e:\n",
    "            num_all += 1\n",
    "            continue\n",
    "        if output == golden:\n",
    "            num_matches += 1\n",
    "        num_all += 1\n",
    "    return round(num_matches / num_all, 2)"
   ]
  },
  {
   "cell_type": "code",
   "execution_count": 820,
   "metadata": {},
   "outputs": [],
   "source": [
    "ann_df['WORKER:quality'] = ann_df.apply(lambda row: find_matching(row['OUTPUT:connections'], row['GOLDEN:connections']), axis=1)"
   ]
  },
  {
   "cell_type": "markdown",
   "metadata": {},
   "source": [
    "# Finding most-common responses"
   ]
  },
  {
   "cell_type": "code",
   "execution_count": 823,
   "metadata": {},
   "outputs": [],
   "source": [
    "res_df = (\n",
    "    res_df\n",
    "    .join(ann_df[['ASSIGNMENT:worker_id', 'WORKER:quality']]\n",
    "          .set_index('ASSIGNMENT:worker_id'), on='ASSIGNMENT:worker_id')\n",
    ")"
   ]
  },
  {
   "cell_type": "code",
   "execution_count": 824,
   "metadata": {},
   "outputs": [],
   "source": [
    "res_df = res_df.drop(\n",
    "    columns=[\n",
    "        'OUTPUT:no_relations', \n",
    "        'OUTPUT:incorrect_markup', \n",
    "        'GOLDEN:incorrect_markup', \n",
    "        'GOLDEN:no_relations',\n",
    "        'GOLDEN:connections'\n",
    "    ]\n",
    ")"
   ]
  },
  {
   "cell_type": "code",
   "execution_count": 825,
   "metadata": {},
   "outputs": [
    {
     "data": {
      "text/html": [
       "<div>\n",
       "<style scoped>\n",
       "    .dataframe tbody tr th:only-of-type {\n",
       "        vertical-align: middle;\n",
       "    }\n",
       "\n",
       "    .dataframe tbody tr th {\n",
       "        vertical-align: top;\n",
       "    }\n",
       "\n",
       "    .dataframe thead th {\n",
       "        text-align: right;\n",
       "    }\n",
       "</style>\n",
       "<table border=\"1\" class=\"dataframe\">\n",
       "  <thead>\n",
       "    <tr style=\"text-align: right;\">\n",
       "      <th></th>\n",
       "      <th>INPUT:input</th>\n",
       "      <th>OUTPUT:connections</th>\n",
       "      <th>ASSIGNMENT:worker_id</th>\n",
       "      <th>WORKER:quality</th>\n",
       "    </tr>\n",
       "  </thead>\n",
       "  <tbody>\n",
       "    <tr>\n",
       "      <th>1</th>\n",
       "      <td>Мы прошли мимо Корякской и Авачи , выполнили н...</td>\n",
       "      <td>NaN</td>\n",
       "      <td>92e36b56cd456baf0801c22c7ab2c51b</td>\n",
       "      <td>0.50</td>\n",
       "    </tr>\n",
       "    <tr>\n",
       "      <th>2</th>\n",
       "      <td>Капустин и Галя Нерпина — ей 25 лет и она хоро...</td>\n",
       "      <td>[{'T1': {'value': 'per', 'text': 'Галя Нерпина...</td>\n",
       "      <td>92e36b56cd456baf0801c22c7ab2c51b</td>\n",
       "      <td>0.50</td>\n",
       "    </tr>\n",
       "    <tr>\n",
       "      <th>3</th>\n",
       "      <td>( Кроме того , утвердили у Хейфица : и меня , ...</td>\n",
       "      <td>NaN</td>\n",
       "      <td>92e36b56cd456baf0801c22c7ab2c51b</td>\n",
       "      <td>0.50</td>\n",
       "    </tr>\n",
       "    <tr>\n",
       "      <th>5</th>\n",
       "      <td>Я дочитал книгу американского писателя Митчела...</td>\n",
       "      <td>[{'T1': {'value': 'per', 'text': 'Митчела Уилс...</td>\n",
       "      <td>92e36b56cd456baf0801c22c7ab2c51b</td>\n",
       "      <td>0.50</td>\n",
       "    </tr>\n",
       "    <tr>\n",
       "      <th>9</th>\n",
       "      <td>Павлов , жена — Надя .</td>\n",
       "      <td>[{'T1': {'value': 'per', 'text': 'Павлов', 'st...</td>\n",
       "      <td>3c338f6812fef4da6d871f2cca3b72ef</td>\n",
       "      <td>0.87</td>\n",
       "    </tr>\n",
       "    <tr>\n",
       "      <th>...</th>\n",
       "      <td>...</td>\n",
       "      <td>...</td>\n",
       "      <td>...</td>\n",
       "      <td>...</td>\n",
       "    </tr>\n",
       "    <tr>\n",
       "      <th>5060</th>\n",
       "      <td>Есть даже подозрения , что Валентина Распутина...</td>\n",
       "      <td>[{'T1': {'value': 'per', 'text': 'Валентина Ра...</td>\n",
       "      <td>66eb9a8c784637c89d09bf105ea9dbc4</td>\n",
       "      <td>0.00</td>\n",
       "    </tr>\n",
       "    <tr>\n",
       "      <th>5062</th>\n",
       "      <td>С Марком Келлерманом и с Иркой были в Союзе пи...</td>\n",
       "      <td>[{'T1': {'value': 'org', 'text': 'Союзе писате...</td>\n",
       "      <td>7ae01448c4fd6f4fe389c3d67392560f</td>\n",
       "      <td>1.00</td>\n",
       "    </tr>\n",
       "    <tr>\n",
       "      <th>5063</th>\n",
       "      <td>И . А . рассказал , что Ахмат Наби отправлял з...</td>\n",
       "      <td>NaN</td>\n",
       "      <td>7ae01448c4fd6f4fe389c3d67392560f</td>\n",
       "      <td>1.00</td>\n",
       "    </tr>\n",
       "    <tr>\n",
       "      <th>5065</th>\n",
       "      <td>Есть даже подозрения , что Валентина Распутина...</td>\n",
       "      <td>NaN</td>\n",
       "      <td>7ae01448c4fd6f4fe389c3d67392560f</td>\n",
       "      <td>1.00</td>\n",
       "    </tr>\n",
       "    <tr>\n",
       "      <th>5067</th>\n",
       "      <td>Женя — ПВОшник из Лубанго , а Оля , соответств...</td>\n",
       "      <td>[{'T1': {'value': 'per', 'text': 'Женя', 'star...</td>\n",
       "      <td>7ae01448c4fd6f4fe389c3d67392560f</td>\n",
       "      <td>1.00</td>\n",
       "    </tr>\n",
       "  </tbody>\n",
       "</table>\n",
       "<p>3266 rows × 4 columns</p>\n",
       "</div>"
      ],
      "text/plain": [
       "                                            INPUT:input  \\\n",
       "1     Мы прошли мимо Корякской и Авачи , выполнили н...   \n",
       "2     Капустин и Галя Нерпина — ей 25 лет и она хоро...   \n",
       "3     ( Кроме того , утвердили у Хейфица : и меня , ...   \n",
       "5     Я дочитал книгу американского писателя Митчела...   \n",
       "9                                Павлов , жена — Надя .   \n",
       "...                                                 ...   \n",
       "5060  Есть даже подозрения , что Валентина Распутина...   \n",
       "5062  С Марком Келлерманом и с Иркой были в Союзе пи...   \n",
       "5063  И . А . рассказал , что Ахмат Наби отправлял з...   \n",
       "5065  Есть даже подозрения , что Валентина Распутина...   \n",
       "5067  Женя — ПВОшник из Лубанго , а Оля , соответств...   \n",
       "\n",
       "                                     OUTPUT:connections  \\\n",
       "1                                                   NaN   \n",
       "2     [{'T1': {'value': 'per', 'text': 'Галя Нерпина...   \n",
       "3                                                   NaN   \n",
       "5     [{'T1': {'value': 'per', 'text': 'Митчела Уилс...   \n",
       "9     [{'T1': {'value': 'per', 'text': 'Павлов', 'st...   \n",
       "...                                                 ...   \n",
       "5060  [{'T1': {'value': 'per', 'text': 'Валентина Ра...   \n",
       "5062  [{'T1': {'value': 'org', 'text': 'Союзе писате...   \n",
       "5063                                                NaN   \n",
       "5065                                                NaN   \n",
       "5067  [{'T1': {'value': 'per', 'text': 'Женя', 'star...   \n",
       "\n",
       "                  ASSIGNMENT:worker_id  WORKER:quality  \n",
       "1     92e36b56cd456baf0801c22c7ab2c51b            0.50  \n",
       "2     92e36b56cd456baf0801c22c7ab2c51b            0.50  \n",
       "3     92e36b56cd456baf0801c22c7ab2c51b            0.50  \n",
       "5     92e36b56cd456baf0801c22c7ab2c51b            0.50  \n",
       "9     3c338f6812fef4da6d871f2cca3b72ef            0.87  \n",
       "...                                ...             ...  \n",
       "5060  66eb9a8c784637c89d09bf105ea9dbc4            0.00  \n",
       "5062  7ae01448c4fd6f4fe389c3d67392560f            1.00  \n",
       "5063  7ae01448c4fd6f4fe389c3d67392560f            1.00  \n",
       "5065  7ae01448c4fd6f4fe389c3d67392560f            1.00  \n",
       "5067  7ae01448c4fd6f4fe389c3d67392560f            1.00  \n",
       "\n",
       "[3266 rows x 4 columns]"
      ]
     },
     "execution_count": 825,
     "metadata": {},
     "output_type": "execute_result"
    }
   ],
   "source": [
    "res_df"
   ]
  },
  {
   "cell_type": "code",
   "execution_count": 826,
   "metadata": {},
   "outputs": [],
   "source": [
    "qualified_annotators = ann_df[\n",
    "    (ann_df['WORKER:quality'] > 0.7) & \n",
    "    (ann_df['GOLDEN:number'] > 1)\n",
    "]['ASSIGNMENT:worker_id'].to_list()"
   ]
  },
  {
   "cell_type": "code",
   "execution_count": 827,
   "metadata": {},
   "outputs": [
    {
     "name": "stdout",
     "output_type": "stream",
     "text": [
      "Number of qualified annotators: 55\n"
     ]
    }
   ],
   "source": [
    "print('Number of qualified annotators:', len(qualified_annotators))"
   ]
  },
  {
   "cell_type": "code",
   "execution_count": 828,
   "metadata": {},
   "outputs": [],
   "source": [
    "grouped_df = res_df.groupby('INPUT:input')\n",
    "grouped_df = (grouped_df\n",
    " .agg(\n",
    "        {'OUTPUT:connections': lambda x: list(x),\n",
    "         'WORKER:quality': lambda x: list(x)}\n",
    "    )\n",
    " .reset_index()\n",
    ")"
   ]
  },
  {
   "cell_type": "code",
   "execution_count": 829,
   "metadata": {},
   "outputs": [],
   "source": [
    "def aggregate(annotations: list, weights: list) -> tuple:\n",
    "    \n",
    "    # if for some season there is only 1 annotaion\n",
    "    if (len(annotations) == 1) and ((type(annotations[0]) == float) or (annotations[0] == [])):\n",
    "            return 'no_relations'\n",
    "\n",
    "    # if there' s more than 1 annotation\n",
    "    else:\n",
    "        input_data = []\n",
    "        c = Counter()\n",
    "        \n",
    "        for ann, weight in zip(annotations, weights):\n",
    "            \n",
    "            # if annotation is not 'NaN'\n",
    "            if (type(ann) != float) and (ann != []):\n",
    "                ann_tuple = tuple([(tuple(i['T1'].values()), tuple(i['T2'].values()), i['connection_type']) for i in ann])\n",
    "                input_data.append([ann_tuple, weight])\n",
    "                \n",
    "            # if annotation is 'NaN' or []\n",
    "            elif (type(ann) == float) or (ann == []):\n",
    "                input_data.append(['no_relations', weight])\n",
    "                \n",
    "        for k, v in input_data:\n",
    "            c.update({k: v})\n",
    "        return c.most_common(1)[0][0]"
   ]
  },
  {
   "cell_type": "code",
   "execution_count": 830,
   "metadata": {},
   "outputs": [],
   "source": [
    "grouped_df['OUTPUT:answer'] = grouped_df.apply(lambda row: aggregate(row['OUTPUT:connections'], row['WORKER:quality']), axis=1)"
   ]
  },
  {
   "cell_type": "code",
   "execution_count": 831,
   "metadata": {},
   "outputs": [],
   "source": [
    "def tuple_to_dict(all_anns: tuple) -> list:\n",
    "    dict_anns = []\n",
    "    \n",
    "    for ann in all_anns:\n",
    "        dict_ann = []\n",
    "        t1 = ann[0]\n",
    "        t2 = ann[1]\n",
    "        conn = ann[2]\n",
    "        \n",
    "        t1_values = {'value': t1[0], 'text': t1[1], 'start': t1[2], 'end': t1[3], 'color': t1[4]}\n",
    "        t2_values = {'value': t2[0], 'text': t2[1], 'start': t2[2], 'end': t2[3], 'color': t2[4]}\n",
    "        \n",
    "        dict_anns.append({'T1': t1_values, 'T2': t2_values, 'connection_type': conn})\n",
    "    return dict_anns"
   ]
  },
  {
   "cell_type": "code",
   "execution_count": 832,
   "metadata": {},
   "outputs": [],
   "source": [
    "grouped_df['OUTPUT:answer'] = grouped_df['OUTPUT:answer'].apply(lambda x: tuple_to_dict(x) if x != 'no_relations' else {})"
   ]
  },
  {
   "cell_type": "code",
   "execution_count": 833,
   "metadata": {},
   "outputs": [],
   "source": [
    "toloka = grouped_df[['INPUT:input', 'OUTPUT:answer']]\n",
    "golden = control_df[['INPUT:input', 'GOLDEN:connections']].rename(columns={'GOLDEN:connections': 'OUTPUT:answer'})"
   ]
  },
  {
   "cell_type": "code",
   "execution_count": 837,
   "metadata": {},
   "outputs": [],
   "source": [
    "(\n",
    "    pd\n",
    "    .concat([toloka, golden])\n",
    "    .to_csv('TOLOKA_RESULTS.tsv', sep='\\t', index=False)\n",
    ")"
   ]
  },
  {
   "cell_type": "code",
   "execution_count": null,
   "metadata": {},
   "outputs": [],
   "source": []
  }
 ],
 "metadata": {
  "kernelspec": {
   "display_name": "Python 3",
   "language": "python",
   "name": "python3"
  },
  "language_info": {
   "codemirror_mode": {
    "name": "ipython",
    "version": 3
   },
   "file_extension": ".py",
   "mimetype": "text/x-python",
   "name": "python",
   "nbconvert_exporter": "python",
   "pygments_lexer": "ipython3",
   "version": "3.8.5"
  }
 },
 "nbformat": 4,
 "nbformat_minor": 4
}
